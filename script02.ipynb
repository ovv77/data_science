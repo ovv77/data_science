{
 "cells": [
  {
   "cell_type": "code",
   "execution_count": 31,
   "metadata": {},
   "outputs": [
    {
     "data": {
      "text/plain": [
       "Index(['Местное время в Москве (ВДНХ)', 'T', 'Po', 'P', 'Pa', 'U', 'DD', 'Ff',\n",
       "       'ff10', 'ff3', 'N', 'WW', 'W1', 'W2', 'Tn', 'Tx', 'Cl', 'Nh', 'H', 'Cm',\n",
       "       'Ch', 'VV', 'Td', 'RRR', 'tR', 'E', 'Tg', 'E'', 'sss'],\n",
       "      dtype='object')"
      ]
     },
     "execution_count": 31,
     "metadata": {},
     "output_type": "execute_result"
    }
   ],
   "source": [
    "import pandas as pd\n",
    "import matplotlib.pyplot as plt\n",
    "\n",
    "data = pd.read_excel('mos5years.xls', skiprows=6)\n",
    "data.index = pd.to_datetime(data['Местное время в Москве (ВДНХ)'], dayfirst=True)\n",
    "#plt.plot(data.index, data['T'])\n",
    "\n",
    "\n",
    "last_day = pd.Timestamp(day=1, month=1, year=2019)\n",
    "first_day = pd.Timestamp(day=1, month=12, year=2017)\n",
    "\n",
    "data_filter = data[(data.index < last_day) & (data.index >= first_day)]\n",
    "#plt.plot(data_filter.index, data_filter['T'])\n",
    "#data_filter\n",
    "#plt.plot(data_filter.index, data_filter['T'])\n",
    "data.columns"
   ]
  },
  {
   "cell_type": "code",
   "execution_count": null,
   "metadata": {},
   "outputs": [],
   "source": [
    "data = data_filter"
   ]
  },
  {
   "cell_type": "code",
   "execution_count": 38,
   "metadata": {},
   "outputs": [
    {
     "data": {
      "text/plain": [
       "Index(['Местное время в Москве (ВДНХ)', 'T', 'Po', 'P', 'Pa', 'U', 'DD', 'Ff',\n",
       "       'ff10', 'ff3', 'N', 'WW', 'W1', 'W2', 'Tn', 'Tx', 'Cl', 'Nh', 'H', 'Cm',\n",
       "       'Ch', 'VV', 'Td', 'RRR', 'tR', 'E', 'Tg', 'E'', 'sss', 'time'],\n",
       "      dtype='object')"
      ]
     },
     "execution_count": 38,
     "metadata": {},
     "output_type": "execute_result"
    }
   ],
   "source": [
    "data['time'] = data.index\n",
    "data = data.sort_values('time')\n",
    "data.columns"
   ]
  },
  {
   "cell_type": "code",
   "execution_count": 37,
   "metadata": {},
   "outputs": [
    {
     "data": {
      "text/plain": [
       "Местное время в Москве (ВДНХ)\n",
       "2015-01-01 00:00:00     0\n",
       "2015-01-01 01:00:00     1\n",
       "2015-01-01 02:00:00     2\n",
       "2015-01-01 03:00:00     3\n",
       "2015-01-01 04:00:00     4\n",
       "                       ..\n",
       "2020-01-01 09:00:00     9\n",
       "2020-01-01 12:00:00    12\n",
       "2020-01-01 15:00:00    15\n",
       "2020-01-01 18:00:00    18\n",
       "2020-01-01 21:00:00    21\n",
       "Name: time, Length: 17647, dtype: int64"
      ]
     },
     "execution_count": 37,
     "metadata": {},
     "output_type": "execute_result"
    }
   ],
   "source": [
    "data['time'].dt.hour"
   ]
  },
  {
   "cell_type": "code",
   "execution_count": 34,
   "metadata": {},
   "outputs": [
    {
     "data": {
      "text/plain": [
       "Местное время в Москве (ВДНХ)\n",
       "2015-01-01 12:00:00    12\n",
       "2015-01-02 12:00:00    12\n",
       "2015-01-03 12:00:00    12\n",
       "2015-01-04 12:00:00    12\n",
       "2015-01-05 12:00:00    12\n",
       "                       ..\n",
       "2019-12-28 12:00:00    12\n",
       "2019-12-29 12:00:00    12\n",
       "2019-12-30 12:00:00    12\n",
       "2019-12-31 12:00:00    12\n",
       "2020-01-01 12:00:00    12\n",
       "Name: time, Length: 1826, dtype: int64"
      ]
     },
     "execution_count": 34,
     "metadata": {},
     "output_type": "execute_result"
    }
   ],
   "source": [
    "data_daily = data[data['time'].dt.hour == 12]\n",
    "data_daily['time'].dt.hour"
   ]
  },
  {
   "cell_type": "code",
   "execution_count": 43,
   "metadata": {},
   "outputs": [
    {
     "data": {
      "text/plain": [
       "-26.9"
      ]
     },
     "execution_count": 43,
     "metadata": {},
     "output_type": "execute_result"
    }
   ],
   "source": [
    "data_daily['T'].min()"
   ]
  },
  {
   "cell_type": "code",
   "execution_count": 44,
   "metadata": {},
   "outputs": [
    {
     "data": {
      "text/plain": [
       "31.7"
      ]
     },
     "execution_count": 44,
     "metadata": {},
     "output_type": "execute_result"
    }
   ],
   "source": [
    "data_daily['T'].max()"
   ]
  },
  {
   "cell_type": "code",
   "execution_count": 45,
   "metadata": {},
   "outputs": [
    {
     "data": {
      "text/plain": [
       "8.772836801752456"
      ]
     },
     "execution_count": 45,
     "metadata": {},
     "output_type": "execute_result"
    }
   ],
   "source": [
    "data_daily['T'].mean()"
   ]
  },
  {
   "cell_type": "code",
   "execution_count": 46,
   "metadata": {},
   "outputs": [
    {
     "data": {
      "text/html": [
       "<div>\n",
       "<style scoped>\n",
       "    .dataframe tbody tr th:only-of-type {\n",
       "        vertical-align: middle;\n",
       "    }\n",
       "\n",
       "    .dataframe tbody tr th {\n",
       "        vertical-align: top;\n",
       "    }\n",
       "\n",
       "    .dataframe thead th {\n",
       "        text-align: right;\n",
       "    }\n",
       "</style>\n",
       "<table border=\"1\" class=\"dataframe\">\n",
       "  <thead>\n",
       "    <tr style=\"text-align: right;\">\n",
       "      <th></th>\n",
       "      <th>T</th>\n",
       "      <th>Po</th>\n",
       "      <th>P</th>\n",
       "      <th>Pa</th>\n",
       "      <th>U</th>\n",
       "      <th>Ff</th>\n",
       "      <th>ff10</th>\n",
       "      <th>ff3</th>\n",
       "      <th>Tn</th>\n",
       "      <th>Tx</th>\n",
       "      <th>VV</th>\n",
       "      <th>Td</th>\n",
       "      <th>tR</th>\n",
       "      <th>Tg</th>\n",
       "    </tr>\n",
       "  </thead>\n",
       "  <tbody>\n",
       "    <tr>\n",
       "      <th>count</th>\n",
       "      <td>1826.000000</td>\n",
       "      <td>1826.000000</td>\n",
       "      <td>1826.000000</td>\n",
       "      <td>1815.000000</td>\n",
       "      <td>1825.000000</td>\n",
       "      <td>1826.000000</td>\n",
       "      <td>19.000000</td>\n",
       "      <td>86.000000</td>\n",
       "      <td>0.0</td>\n",
       "      <td>0.0</td>\n",
       "      <td>1820.000000</td>\n",
       "      <td>1825.000000</td>\n",
       "      <td>0.0</td>\n",
       "      <td>0.0</td>\n",
       "    </tr>\n",
       "    <tr>\n",
       "      <th>mean</th>\n",
       "      <td>8.772837</td>\n",
       "      <td>747.612103</td>\n",
       "      <td>762.026177</td>\n",
       "      <td>0.021543</td>\n",
       "      <td>65.252055</td>\n",
       "      <td>1.570646</td>\n",
       "      <td>10.421053</td>\n",
       "      <td>11.046512</td>\n",
       "      <td>NaN</td>\n",
       "      <td>NaN</td>\n",
       "      <td>8.523187</td>\n",
       "      <td>1.607507</td>\n",
       "      <td>NaN</td>\n",
       "      <td>NaN</td>\n",
       "    </tr>\n",
       "    <tr>\n",
       "      <th>std</th>\n",
       "      <td>10.986743</td>\n",
       "      <td>7.655981</td>\n",
       "      <td>7.868374</td>\n",
       "      <td>0.912714</td>\n",
       "      <td>20.220360</td>\n",
       "      <td>0.801159</td>\n",
       "      <td>0.606977</td>\n",
       "      <td>1.264046</td>\n",
       "      <td>NaN</td>\n",
       "      <td>NaN</td>\n",
       "      <td>2.664971</td>\n",
       "      <td>8.619287</td>\n",
       "      <td>NaN</td>\n",
       "      <td>NaN</td>\n",
       "    </tr>\n",
       "    <tr>\n",
       "      <th>min</th>\n",
       "      <td>-26.900000</td>\n",
       "      <td>718.200000</td>\n",
       "      <td>732.400000</td>\n",
       "      <td>-5.200000</td>\n",
       "      <td>14.000000</td>\n",
       "      <td>0.000000</td>\n",
       "      <td>10.000000</td>\n",
       "      <td>10.000000</td>\n",
       "      <td>NaN</td>\n",
       "      <td>NaN</td>\n",
       "      <td>0.200000</td>\n",
       "      <td>-30.500000</td>\n",
       "      <td>NaN</td>\n",
       "      <td>NaN</td>\n",
       "    </tr>\n",
       "    <tr>\n",
       "      <th>25%</th>\n",
       "      <td>0.400000</td>\n",
       "      <td>742.600000</td>\n",
       "      <td>756.900000</td>\n",
       "      <td>-0.500000</td>\n",
       "      <td>49.000000</td>\n",
       "      <td>1.000000</td>\n",
       "      <td>10.000000</td>\n",
       "      <td>10.000000</td>\n",
       "      <td>NaN</td>\n",
       "      <td>NaN</td>\n",
       "      <td>10.000000</td>\n",
       "      <td>-4.200000</td>\n",
       "      <td>NaN</td>\n",
       "      <td>NaN</td>\n",
       "    </tr>\n",
       "    <tr>\n",
       "      <th>50%</th>\n",
       "      <td>8.050000</td>\n",
       "      <td>747.500000</td>\n",
       "      <td>761.800000</td>\n",
       "      <td>0.000000</td>\n",
       "      <td>68.000000</td>\n",
       "      <td>1.000000</td>\n",
       "      <td>10.000000</td>\n",
       "      <td>11.000000</td>\n",
       "      <td>NaN</td>\n",
       "      <td>NaN</td>\n",
       "      <td>10.000000</td>\n",
       "      <td>1.100000</td>\n",
       "      <td>NaN</td>\n",
       "      <td>NaN</td>\n",
       "    </tr>\n",
       "    <tr>\n",
       "      <th>75%</th>\n",
       "      <td>18.500000</td>\n",
       "      <td>752.500000</td>\n",
       "      <td>766.900000</td>\n",
       "      <td>0.500000</td>\n",
       "      <td>83.000000</td>\n",
       "      <td>2.000000</td>\n",
       "      <td>11.000000</td>\n",
       "      <td>12.000000</td>\n",
       "      <td>NaN</td>\n",
       "      <td>NaN</td>\n",
       "      <td>10.000000</td>\n",
       "      <td>8.700000</td>\n",
       "      <td>NaN</td>\n",
       "      <td>NaN</td>\n",
       "    </tr>\n",
       "    <tr>\n",
       "      <th>max</th>\n",
       "      <td>31.700000</td>\n",
       "      <td>774.100000</td>\n",
       "      <td>789.100000</td>\n",
       "      <td>4.900000</td>\n",
       "      <td>100.000000</td>\n",
       "      <td>5.000000</td>\n",
       "      <td>12.000000</td>\n",
       "      <td>14.000000</td>\n",
       "      <td>NaN</td>\n",
       "      <td>NaN</td>\n",
       "      <td>10.000000</td>\n",
       "      <td>19.900000</td>\n",
       "      <td>NaN</td>\n",
       "      <td>NaN</td>\n",
       "    </tr>\n",
       "  </tbody>\n",
       "</table>\n",
       "</div>"
      ],
      "text/plain": [
       "                 T           Po            P           Pa            U  \\\n",
       "count  1826.000000  1826.000000  1826.000000  1815.000000  1825.000000   \n",
       "mean      8.772837   747.612103   762.026177     0.021543    65.252055   \n",
       "std      10.986743     7.655981     7.868374     0.912714    20.220360   \n",
       "min     -26.900000   718.200000   732.400000    -5.200000    14.000000   \n",
       "25%       0.400000   742.600000   756.900000    -0.500000    49.000000   \n",
       "50%       8.050000   747.500000   761.800000     0.000000    68.000000   \n",
       "75%      18.500000   752.500000   766.900000     0.500000    83.000000   \n",
       "max      31.700000   774.100000   789.100000     4.900000   100.000000   \n",
       "\n",
       "                Ff       ff10        ff3   Tn   Tx           VV           Td  \\\n",
       "count  1826.000000  19.000000  86.000000  0.0  0.0  1820.000000  1825.000000   \n",
       "mean      1.570646  10.421053  11.046512  NaN  NaN     8.523187     1.607507   \n",
       "std       0.801159   0.606977   1.264046  NaN  NaN     2.664971     8.619287   \n",
       "min       0.000000  10.000000  10.000000  NaN  NaN     0.200000   -30.500000   \n",
       "25%       1.000000  10.000000  10.000000  NaN  NaN    10.000000    -4.200000   \n",
       "50%       1.000000  10.000000  11.000000  NaN  NaN    10.000000     1.100000   \n",
       "75%       2.000000  11.000000  12.000000  NaN  NaN    10.000000     8.700000   \n",
       "max       5.000000  12.000000  14.000000  NaN  NaN    10.000000    19.900000   \n",
       "\n",
       "        tR   Tg  \n",
       "count  0.0  0.0  \n",
       "mean   NaN  NaN  \n",
       "std    NaN  NaN  \n",
       "min    NaN  NaN  \n",
       "25%    NaN  NaN  \n",
       "50%    NaN  NaN  \n",
       "75%    NaN  NaN  \n",
       "max    NaN  NaN  "
      ]
     },
     "execution_count": 46,
     "metadata": {},
     "output_type": "execute_result"
    }
   ],
   "source": [
    "data_daily.describe()"
   ]
  },
  {
   "cell_type": "code",
   "execution_count": 47,
   "metadata": {},
   "outputs": [
    {
     "data": {
      "text/plain": [
       "Местное время в Москве (ВДНХ)\n",
       "2015-01-01 12:00:00      NaN\n",
       "2015-01-02 12:00:00      NaN\n",
       "2015-01-03 12:00:00      NaN\n",
       "2015-01-04 12:00:00      NaN\n",
       "2015-01-05 12:00:00      NaN\n",
       "                       ...  \n",
       "2019-12-28 12:00:00    5.193\n",
       "2019-12-29 12:00:00    5.050\n",
       "2019-12-30 12:00:00    4.919\n",
       "2019-12-31 12:00:00    4.849\n",
       "2020-01-01 12:00:00    4.768\n",
       "Name: T, Length: 1826, dtype: float64"
      ]
     },
     "execution_count": 47,
     "metadata": {},
     "output_type": "execute_result"
    }
   ],
   "source": [
    "data_daily['T'].rolling(100).mean()"
   ]
  },
  {
   "cell_type": "code",
   "execution_count": 53,
   "metadata": {},
   "outputs": [
    {
     "data": {
      "text/plain": [
       "[<matplotlib.lines.Line2D at 0x7f54e44a1790>]"
      ]
     },
     "execution_count": 53,
     "metadata": {},
     "output_type": "execute_result"
    },
    {
     "data": {
      "image/png": "[encoded data removed]",
      "text/plain": [
       "<Figure size 432x288 with 1 Axes>"
      ]
     },
     "metadata": {
      "needs_background": "light"
     },
     "output_type": "display_data"
    }
   ],
   "source": [
    "plt.plot(data_daily.index, data_daily['T'], color='yellow')\n",
    "plt.plot(data_daily.index, data_daily['T'].rolling(100).mean(), color='red')\n",
    "plt.plot(data_daily.index, data_daily['T'].rolling(50).mean(), color='blue')\n",
    "\n"
   ]
  },
  {
   "cell_type": "code",
   "execution_count": 55,
   "metadata": {},
   "outputs": [
    {
     "data": {
      "text/plain": [
       "<matplotlib.axes._subplots.AxesSubplot at 0x7f54e45160d0>"
      ]
     },
     "execution_count": 55,
     "metadata": {},
     "output_type": "execute_result"
    },
    {
     "data": {
      "image/png": "[encoded data removed]",
      "text/plain": [
       "<Figure size 432x288 with 1 Axes>"
      ]
     },
     "metadata": {
      "needs_background": "light"
     },
     "output_type": "display_data"
    }
   ],
   "source": [
    "data_daily['T'].hist()"
   ]
  },
  {
   "cell_type": "code",
   "execution_count": 58,
   "metadata": {},
   "outputs": [
    {
     "data": {
      "text/plain": [
       "25.575000000000003"
      ]
     },
     "execution_count": 58,
     "metadata": {},
     "output_type": "execute_result"
    }
   ],
   "source": [
    "data_daily['T'].quantile(0.95)"
   ]
  },
  {
   "cell_type": "code",
   "execution_count": null,
   "metadata": {},
   "outputs": [],
   "source": []
  }
 ],
 "metadata": {
  "kernelspec": {
   "display_name": "Python 3",
   "language": "python",
   "name": "python3"
  },
  "language_info": {
   "codemirror_mode": {
    "name": "ipython",
    "version": 3
   },
   "file_extension": ".py",
   "mimetype": "text/x-python",
   "name": "python",
   "nbconvert_exporter": "python",
   "pygments_lexer": "ipython3",
   "version": "3.7.6"
  }
 },
 "nbformat": 4,
 "nbformat_minor": 4
}
